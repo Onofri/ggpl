{
 "cells": [
  {
   "cell_type": "markdown",
   "metadata": {},
   "source": [
    "#Whorkshop_02"
   ]
  },
  {
   "cell_type": "markdown",
   "metadata": {},
   "source": [
    "########Parametric Building Structure\n",
    "\n",
    "![buildingParametric](https://github.com/Onofri/ggpl/blob/master/2016-10-21/buildingParametric.jpg)"
   ]
  },
  {
   "cell_type": "markdown",
   "metadata": {},
   "source": [
    "![results](https://github.com/Onofri/ggpl/blob/master/2016-10-21/results.jpg)"
   ]
  },
  {
   "cell_type": "code",
   "execution_count": null,
   "metadata": {},
   "outputs": [],
   "source": [
    "from pyplasm import *"
   ]
  },
  {
   "cell_type": "code",
   "execution_count": null,
   "metadata": {},
   "outputs": [],
   "source": [
    "#variable definitions\n",
    "nx_pillars = 5\n",
    "ny_pillars = 3\n",
    "distance = 4\n",
    "high = 3"
   ]
  },
  {
   "cell_type": "code",
   "execution_count": null,
   "metadata": {
    "collapsed": true
   },
   "outputs": [],
   "source": [
    "#plinths creation\n",
    "x_plinths = QUOTE([1.2,-distance]*nx_pillars)\n",
    "y_plinths = QUOTE([1.2,-distance]*ny_pillars)\n",
    "\n",
    "plinths = INSR(PROD)([x_plinths,y_plinths, Q(1)])"
   ]
  },
  {
   "cell_type": "code",
   "execution_count": null,
   "metadata": {},
   "outputs": [],
   "source": [
    "#pillars creation\n",
    "x_pillars = QUOTE([-0.4, 0.4, -0.4, -distance]*nx_pillars)\n",
    "y_pillars = QUOTE([-0.4, 0.4, -0.4, -distance]*ny_pillars)\n",
    "\n",
    "pillars = INSR(PROD)([x_pillars,y_pillars, QUOTE([-0.5,3.6]*high)])"
   ]
  },
  {
   "cell_type": "code",
   "execution_count": null,
   "metadata": {},
   "outputs": [],
   "source": [
    "#beams creation\n",
    "len_x = 0.4*nx_pillars + 0.4*(nx_pillars*2-2)+distance*(nx_pillars-1)\n",
    "len_y = 0.4*ny_pillars + 0.4*(ny_pillars*2-2)+distance*(ny_pillars-1)\n",
    "\n",
    "x_beams = QUOTE([-0.4, len_x])\n",
    "y_beams = QUOTE([-0.4, len_y])\n",
    "\n",
    "beams = INSR(PROD)([x_beams,y_beams,QUOTE([0.5, -3.6]*(high+1))])\n",
    "\n",
    "shema_beams_x = QUOTE([-0.4, distance+0.8]*(nx_pillars-1))\n",
    "schema_beams_y = QUOTE([-0.4, distance+0.8]*(ny_pillars-1))\n",
    "\n",
    "schema_beams = INSR(PROD)([shema_plan_x, schema_plan_y, QUOTE([0.5, -3.6]*(high+1))])\n",
    "\n",
    "plan_structure = DIFFERENCE([beams,(T([1,2])([0.4,0.4])(shema_beams_x))])"
   ]
  },
  {
   "cell_type": "code",
   "execution_count": null,
   "metadata": {},
   "outputs": [],
   "source": [
    "#my view\n",
    "VIEW(STRUCT([COLOR(RED),plinths,COLOR(RED),T(3)(0.5),pillars,COLOR(GREEN),plan_structure]))"
   ]
  }
 ],
 "metadata": {
  "kernelspec": {
   "display_name": "Python 2",
   "language": "python",
   "name": "python2"
  },
  "language_info": {
   "codemirror_mode": {
    "name": "ipython",
    "version": 2.0
   },
   "file_extension": ".py",
   "mimetype": "text/x-python",
   "name": "python",
   "nbconvert_exporter": "python",
   "pygments_lexer": "ipython2",
   "version": "2.7.6"
  }
 },
 "nbformat": 4,
 "nbformat_minor": 0
}