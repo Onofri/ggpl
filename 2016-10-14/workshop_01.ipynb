{
 "cells": [
  {
   "cell_type": "code",
   "execution_count": null,
   "metadata": {
    "collapsed": true
   },
   "outputs": [],
   "source": [
    "###### Workshop_01\n",
    "\n",
    "#Building Model\n",
    "\n",
    "![models](https://github.com/Onofri/ggpl/blob/master/2016-10-14/models.jpg?raw=true)"
   ]
  },
  {
   "cell_type": "code",
   "execution_count": null,
   "metadata": {},
   "outputs": [],
   "source": [
    "from pyplasm import *"
   ]
  },
  {
   "cell_type": "code",
   "execution_count": null,
   "metadata": {},
   "outputs": [],
   "source": [
    "#variable definitions\n",
    "ny_pillars = 5\n",
    "distance1 = 5\n",
    "distance2 = 2\n",
    "high = 3"
   ]
  },
  {
   "cell_type": "code",
   "execution_count": null,
   "metadata": {},
   "outputs": [],
   "source": [
    "#plinths creation\n",
    "x_plinths = QUOTE([1.2])\n",
    "y_plinths = QUOTE([1.2,-distance1, 1.2, -distance2, 1.2, -distance1,1.2, -distance2, 1.2])\n",
    "\n",
    "plinths = INSR(PROD)([x_plinths,y_plinths, Q(1)])"
   ]
  },
  {
   "cell_type": "code",
   "execution_count": null,
   "metadata": {},
   "outputs": [],
   "source": [
    "#pillars creation\n",
    "x_pillars = QUOTE([-0.4, 0.4, -0.4])\n",
    "y_pillars = QUOTE([-0.4, 0.4, -0.4, -distance1,-0.4, 0.4, -0.4, -distance2,-0.4, 0.4, -0.4, -distance1,-0.4, 0.4, -0.4, -distanza2,-0.4, 0.4,])\n",
    "\n",
    "pillars = INSR(PROD)([x_pillars,y_pillars, QUOTE([-0.5,3.6]*high)])"
   ]
  },
  {
   "cell_type": "code",
   "execution_count": null,
   "metadata": {},
   "outputs": [],
   "source": [
    "#beams creation\n",
    "len_y = 0.4*(ny_pillars*2+ny_pillars)- 0.4 -0.4 + (distance1+distance2)*2\n",
    "\n",
    "x_beams = QUOTE([-0.4, 0.4])\n",
    "y_beams = QUOTE([-0.4, len_y])\n",
    "\n",
    "beams = INSR(PROD)([x_beams,y_beams,QUOTE([0.5, -3.6]*(high))])"
   ]
  },
  {
   "cell_type": "code",
   "execution_count": null,
   "metadata": {},
   "outputs": [],
   "source": [
    "#my view\n",
    "VIEW(STRUCT([plinths,T(3)(0.5),pillars,T(3)(4.1),beams]))"
   ]
  },
  {
   "cell_type": "markdown",
   "metadata": {},
   "source": [
    "![results](https://github.com/Onofri/ggpl/blob/master/2016-10-14/results.jpg?raw=true)"
   ]
  }
 ],
 "metadata": {
  "kernelspec": {
   "display_name": "Python 2",
   "language": "python",
   "name": "python2"
  },
  "language_info": {
   "codemirror_mode": {
    "name": "ipython",
    "version": 2.0
   },
   "file_extension": ".py",
   "mimetype": "text/x-python",
   "name": "python",
   "nbconvert_exporter": "python",
   "pygments_lexer": "ipython2",
   "version": "2.7.6"
  }
 },
 "nbformat": 4,
 "nbformat_minor": 0
}