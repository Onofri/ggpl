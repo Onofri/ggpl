{
 "cells": [
  {
   "cell_type": "markdown",
   "metadata": {
    "collapsed": true
   },
   "source": [
    "#Workshop_01\n",
    "\n",
    "####Building Model\n",
    "\n",
    "![models](https://github.com/Onofri/ggpl/blob/master/2016-10-14/models.jpg)"
   ]
  },
  {
   "cell_type": "markdown",
   "metadata": {},
   "source": [
    ""
   ]
  },
  {
   "cell_type": "code",
   "execution_count": null,
   "metadata": {},
   "outputs": [],
   "source": [
    "from pyplasm import *\n",
    "\n",
    "#variable definitions\n",
    "beamSec=(0.5,0.5) #bx,bz \n",
    "pillarSec=(0.5,0.5) #px,py \n",
    "pillarDis=[2,5,2,5,2]\n",
    "beamDis= [3,2,2,2,2,2]\n",
    "\n",
    "#function\n",
    "def createStructure(beamSec,pillarSec,pillarDis,beamDis):\n",
    "    maxHeight= SUM(beamDis)+beamSec[1]\n",
    "    pillarLong=CUBOID([pillarSec[0],pillarSec[1],maxHeight]) \n",
    "    pillars=[]\n",
    "    floor=[]\n",
    "   \n",
    "    for d in range(len(pillarDis)):\n",
    "        pillars.append(pillarLong)\n",
    "        floor.append(T(2)(pillarSec[1]))\n",
    "        \n",
    "        for h in range(len(beamDis)):\n",
    "            beam=CUBOID([beamSec[0],pillarDis[d],beamSec[1]])\n",
    "            floor.append(T(3)(beamDis[h]))\n",
    "            floor.append(beam)\n",
    "       \n",
    "    \n",
    "        floor.append(T(2)(pillarSec[1]))  \n",
    "        img=STRUCT(floor) \n",
    "        floor=[]\n",
    "        if d != len(pillarDis)-1:\n",
    "            pillars.append(img)\n",
    "        img=[]\n",
    "        pillars.append(T(2)(pillarDis[d]+pillarSec[1]))\n",
    "    \n",
    "    final=STRUCT(pillars)\n",
    "    return final\n",
    "\n",
    "\n",
    "#my view\n",
    "structure=createStructure(beamSec,pillarSec,pillarDis,beamDis)\n",
    "VIEW(structure)"
   ]
  },
  {
   "cell_type": "markdown",
   "metadata": {},
   "source": [
    "![results](https://github.com/Onofri/ggpl/blob/master/2016-10-14/results.jpg)"
   ]
  }
 ],
 "metadata": {
  "kernelspec": {
   "display_name": "Python 2",
   "language": "python",
   "name": "python2"
  },
  "language_info": {
   "codemirror_mode": {
    "name": "ipython",
    "version": 2.0
   },
   "file_extension": ".py",
   "mimetype": "text/x-python",
   "name": "python",
   "nbconvert_exporter": "python",
   "pygments_lexer": "ipython2",
   "version": "2.7.6"
  }
 },
 "nbformat": 4,
 "nbformat_minor": 0
}