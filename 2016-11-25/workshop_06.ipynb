{
 "cells": [
  {
   "cell_type": "code",
   "execution_count": null,
   "metadata": {
    "collapsed": true
   },
   "outputs": [],
   "source": [
    ""
   ]
  },
  {
   "cell_type": "code",
   "execution_count": null,
   "metadata": {},
   "outputs": [],
   "source": [
    "from pyplasm import *"
   ]
  },
  {
   "cell_type": "code",
   "execution_count": null,
   "metadata": {},
   "outputs": [],
   "source": [
    "#variable definitions\n",
    "lung_window =0.96\n",
    "alt_window = 2.5\n",
    "\n",
    "lungx=1.2\n",
    "lungy= 2.8"
   ]
  },
  {
   "cell_type": "code",
   "execution_count": null,
   "metadata": {},
   "outputs": [],
   "source": [
    "#doors creation: lateral and central\n",
    "x_lateral_door = QUOTE([lungx,-2.4]*2)\n",
    "y_lateral_door = QUOTE([lungy])\n",
    "\n",
    "lateral_doors = INSR(PROD)([ QUOTE([0.06,-0.06]*2),x_lateral_door,y_lateral_door])\n",
    "\n",
    "x_central_door = QUOTE([lungx]*2)\n",
    "y_central_door = QUOTE([lungy])\n",
    "\n",
    "central_doors = INSR(PROD)([ QUOTE([-0.06,0.06]),x_central_door,y_central_door])\n",
    "\n",
    "bucox = QUOTE([-0.12, lung_window,-0.12]*40)\n",
    "bucoy = QUOTE([-0.12, alt_window, -0.12])\n",
    "buco_lateral = INSR(PROD)([ QUOTE([0.06,-0.06]*2),bucox, bucoy])\n",
    "\n",
    "lateral_doors_structure= DIFFERENCE([lateral_doors,buco_lateral])\n",
    "\n",
    "buco_central = INSR(PROD)([ QUOTE([-0.06,0.06]),bucox, bucoy])\n",
    "\n",
    "central_doors_structure= DIFFERENCE([central_doors,buco_central])"
   ]
  },
  {
   "cell_type": "code",
   "execution_count": null,
   "metadata": {},
   "outputs": [],
   "source": [
    "#windows creation: lateral and central\n",
    "window_lateral_x = QUOTE([-0.12, lung_window,-(0.12+2.4)]*2)\n",
    "window_central_x = QUOTE([-0.12, lung_window,-(0.12)]*2)\n",
    "window_y = QUOTE([-0.12, alt_window, -0.12])\n",
    "\n",
    "window_lateral = INSR(PROD)([ QUOTE([-0.0256,0.0088,-(0.0256+ 0.06)]*2),window_lateral_x, window_y])\n",
    "\n",
    "window_central = INSR(PROD)([ QUOTE([-(0.06+ 0.0256),0.0088]),window_central_x, window_y])"
   ]
  },
  {
   "cell_type": "code",
   "execution_count": null,
   "outputs": [],
   "source": [
    ""
   ]
  }
 ],
 "metadata": {
  "kernelspec": {
   "display_name": "Python 2",
   "language": "python",
   "name": "python2"
  },
  "language_info": {
   "codemirror_mode": {
    "name": "ipython",
    "version": 2.0
   },
   "file_extension": ".py",
   "mimetype": "text/x-python",
   "name": "python",
   "nbconvert_exporter": "python",
   "pygments_lexer": "ipython2",
   "version": "2.7.6"
  }
 },
 "nbformat": 4,
 "nbformat_minor": 0
}