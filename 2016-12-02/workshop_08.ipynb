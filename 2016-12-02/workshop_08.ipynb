{
 "cells": [
  {
   "cell_type": "heading",
   "metadata": {
    "collapsed": true
   },
   "level": 1,
   "source": [
    "WorkShop 8\n",
    "\n",
    "\n",
    "La pianta della casa"
   ]
  },
  {
   "cell_type": "markdown",
   "metadata": {},
   "source": [
    "## In questo progetto vi sarà la realizzazione di tale  casa\n",
    "\n",
    "![myHouse](https://github.com/Onofri/ggpl/blob/master/2016-12-02/myHouse.jpg)"
   ]
  },
  {
   "cell_type": "heading",
   "metadata": {},
   "level": 3,
   "source": [
    "nel caricamento del Git ci saranno le diverse cartelle con i file .svg e i file .lines"
   ]
  },
  {
   "cell_type": "code",
   "execution_count": null,
   "metadata": {},
   "outputs": [],
   "source": [
    "from pyplasm import *\n",
    "import numpy as np"
   ]
  },
  {
   "cell_type": "code",
   "execution_count": null,
   "metadata": {},
   "outputs": [],
   "source": [
    "#definizione per leggere il file e lettura file\n",
    " \n",
    "wallTexture = \"texture/wall.jpg\"\n",
    "\n",
    "zero = CUBOID([.0,.0,.0])\n",
    "initStruct = STRUCT([zero])\n",
    "\n",
    "def readFile(l):\n",
    "\tfile = open(\"lines/layer_\"+str(l)+\".lines\",\"r\")\n",
    "\tdata = file.read()\n",
    "\tfile.close()\n",
    "\treturn data.splitlines()\n",
    "\n",
    "\n",
    "layer1 = readFile(1)\n",
    "layer2 = readFile(2)\n",
    "layer3 = readFile(3)\n",
    "layer4 = readFile(4)\n",
    "\n",
    "layer = [layer4,layer2,layer3,layer4,]\n",
    "\n",
    "\n",
    "layer_height = [30.0,30.0,50.0,1.0]"
   ]
  },
  {
   "cell_type": "code",
   "execution_count": null,
   "metadata": {},
   "outputs": [],
   "source": [
    "#funzione che crea la pianta in base ai livelli\n",
    " def  housePlans(l,i,h,s1):\n",
    "\tif l <= len(layer)-1:\n",
    "\t\tif i < len(layer[l])-1:\n",
    "\t\t\ta = layer[l][i]\n",
    "\t\t\ta_split = a.split(\",\")\n",
    "\t\t\ta_number = np.array(a_split, dtype=float)\n",
    "\t\t\ta_pol = MKPOL([[[a_number[0],a_number[1],0.0],[a_number[0],a_number[3],0.0],[a_number[2],a_number[1],0.0],[a_number[2],a_number[3],0.0]],[[1,2,3,4]],[1]])\n",
    "\t\t\ta_off = OFFSET([1.5, 1.5, layer_height[l]])(a_pol)\n",
    "\t\t\ta_texture = TEXTURE([wallTexture, TRUE, FALSE, 1, 1, 0, 6, 1])(a_off)\n",
    "\t\t\ta_tras = STRUCT([T(3)(h), a_texture])\n",
    "\t\t\ts2 = STRUCT([a_tras, s1])\n",
    "\t\t\t\n",
    "\t\t\treturn housePlans(l,i+1,h,s2)\n",
    "\t\telse:\n",
    "\t\t\th = h + layer_height[l]\n",
    "\t\t\treturn housePlans(l+1,0,h,s1)\n",
    "\telse:\n",
    "\t\t\n",
    "\t\tVIEW(s1,floor)"
   ]
  },
  {
   "cell_type": "code",
   "execution_count": null,
   "metadata": {},
   "outputs": [],
   "source": [
    "housePlans(0,0,0.0,initStruct)"
   ]
  },
  {
   "cell_type": "markdown",
   "metadata": {},
   "source": [
    "![houseView](https://github.com/Onofri/ggpl/blob/master/2016-12-02/houseView.jpg)\n",
    "\n",
    "#ecco il risultato (Pyplasm lo capovolge)"
   ]
  }
 ],
 "metadata": {
  "kernelspec": {
   "display_name": "Python 2",
   "language": "python",
   "name": "python2"
  },
  "language_info": {
   "codemirror_mode": {
    "name": "ipython",
    "version": 2.0
   },
   "file_extension": ".py",
   "mimetype": "text/x-python",
   "name": "python",
   "nbconvert_exporter": "python",
   "pygments_lexer": "ipython2",
   "version": "2.7.6"
  }
 },
 "nbformat": 4,
 "nbformat_minor": 0
}