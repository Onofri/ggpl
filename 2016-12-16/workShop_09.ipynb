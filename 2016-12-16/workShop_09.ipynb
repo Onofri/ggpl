{
 "cells": [
  {
   "cell_type": "markdown",
   "metadata": {
    "collapsed": true
   },
   "source": [
    "#WorkShop N°9"
   ]
  },
  {
   "cell_type": "code",
   "execution_count": null,
   "metadata": {},
   "outputs": [],
   "source": [
    ""
   ]
  },
  {
   "cell_type": "markdown",
   "metadata": {},
   "source": [
    "![roofView1](https://github.com/Onofri/ggpl/blob/master/2016-12-16/roofView1.jpg?raw=true)"
   ]
  },
  {
   "cell_type": "markdown",
   "metadata": {},
   "source": [
    "![roofView2](https://github.com/Onofri/ggpl/blob/master/2016-12-16/roofView2.jpg?raw=true)"
   ]
  },
  {
   "cell_type": "code",
   "execution_count": null,
   "metadata": {},
   "outputs": [],
   "source": [
    "from pyplasm import *\n",
    "\n",
    "#my Texture\n",
    "latTexture = \"wall.jpg\"\n",
    "pavTexture = \"red.jpg\"\n",
    "\n",
    "par = 0.2\n",
    "\n",
    "x = [\n",
    "  2.0,  #0\n",
    "  3.0,  #1\n",
    "  7.0,  #2\n",
    "  12.3, #3\n",
    "  13.0, #4\n",
    "  14.0, #5\n",
    "  15.0, #6\n",
    "]\n",
    "\n",
    "y = [\n",
    "  1.0,  #0\n",
    "  2.0,  #1\n",
    "  3.4,  #2\n",
    "  4.0,  #3\n",
    "  5.0,  #4\n",
    "  6.0,  #5\n",
    "  7.0, #6\n",
    "  8.0, #7\n",
    "  9.0, #8\n",
    "]\n",
    "\n",
    "z = [\n",
    "  1.0,  #0\n",
    "  3.5   #1\n",
    "]\n",
    "\n",
    "vertsStruct = [\n",
    "  [x[0],y[1],z[0]], #1 ---> esterni\n",
    "  [x[0],y[7],z[0]], #2\n",
    "  [x[2],y[2],z[0]], #3\n",
    "  [x[2],y[6],z[0]], #4\n",
    "  [x[4],y[0],z[0]], #5\n",
    "  [x[4],y[8],z[0]], #6\n",
    "  [x[6],y[4],z[0]], #7\n",
    "  [x[1],y[2],z[1]], #8 ---> interni\n",
    "  [x[1],y[6],z[1]], #9\n",
    "  [x[2],y[3],z[1]], #10\n",
    "  [x[2],y[5],z[1]], #11\n",
    "  [x[3],y[2],z[1]], #12\n",
    "  [x[3],y[6],z[1]], #13\n",
    "  [x[5],y[4],z[1]], #14\n",
    "  \n",
    "]\n",
    "\n",
    "cellsStruct = [\n",
    "  [1,2,9,8],   #1\n",
    "  [1,3,10,8],  #2\n",
    "  [3,5,12,10], #3\n",
    "  [5,7,14,12], #4 \n",
    "  [7,6,13,14], #5\n",
    "  [6,4,11,13], #6\n",
    "  [4,2,9,11]   #7\n",
    "]\n",
    "\n",
    "cellsStructBorder = [\n",
    "  [1,2],\n",
    "  [2,3],\n",
    "  [3,4],\n",
    "  [4,5],\n",
    "  [5,6],\n",
    "  [6,7],\n",
    "  [7,1]\n",
    "]\n",
    "\n",
    "\n",
    "lateral = MKPOL([vertsStruct, cellsStruct,[1]])\n",
    "lateral = TEXTURE([latTexture, TRUE, FALSE, 1, 1, 0, 6, 6])(OFFSET([par, par, par])(SKEL_2(lateral)))\n",
    "\n",
    "pavimentation = MKPOL([vertsStruct, [[8,10,11,9],[10,12,13,11],[12,14,13]],[1]])\n",
    "pavimentation = TEXTURE([pavTexture, TRUE, FALSE, 1, 1, 0, 6, 6])(OFFSET([par, par, par])(SKEL_2(pavimentation)))\n",
    "\n",
    "\n",
    "#my View\n",
    "myRoof = STRUCT([lateral, pavimentation])\n",
    "VIEW(myRoof)"
   ]
  }
 ],
 "metadata": {
  "kernelspec": {
   "display_name": "Python 2",
   "language": "python",
   "name": "python2"
  },
  "language_info": {
   "codemirror_mode": {
    "name": "ipython",
    "version": 2.0
   },
   "file_extension": ".py",
   "mimetype": "text/x-python",
   "name": "python",
   "nbconvert_exporter": "python",
   "pygments_lexer": "ipython2",
   "version": "2.7.6"
  }
 },
 "nbformat": 4,
 "nbformat_minor": 0
}