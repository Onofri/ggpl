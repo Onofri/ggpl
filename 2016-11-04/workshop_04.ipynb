{
 "cells": [
  {
   "cell_type": "markdown",
   "metadata": {
    "collapsed": true
   },
   "source": [
    "# Workshop 05"
   ]
  },
  {
   "cell_type": "markdown",
   "metadata": {},
   "source": [
    "### Per la realizzazione del mio tetto, ho deciso di rappresentare parte del tetto della basilica di San Paolo fuori le mura"
   ]
  },
  {
   "cell_type": "markdown",
   "metadata": {},
   "source": [
    "#### (spero l'idea risulti originale)"
   ]
  },
  {
   "cell_type": "markdown",
   "metadata": {},
   "source": [
    "### Prendiamo in considerazione la vista della basilica direttamente da Google Maps\n",
    "\n",
    "![SanPaolo_maps](https://github.com/Onofri/ggpl/blob/master/2016-11-04/SanPaolo_maps.jpg)"
   ]
  },
  {
   "cell_type": "markdown",
   "metadata": {},
   "source": [
    "### Ora consideriamo un immagine della basilica\n",
    "\n",
    "![SanPaolo](https://github.com/Onofri/ggpl/blob/master/2016-11-04/SanPaolo.jpg)"
   ]
  },
  {
   "cell_type": "markdown",
   "metadata": {},
   "source": [
    "### ecco i risultati del workshop\n",
    "\n",
    "![tetto1](https://github.com/Onofri/ggpl/blob/master/2016-11-04/tetto1.png)"
   ]
  },
  {
   "cell_type": "markdown",
   "metadata": {},
   "source": [
    "![tetto2](https://github.com/Onofri/ggpl/blob/master/2016-11-04/tetto2.png)"
   ]
  },
  {
   "cell_type": "markdown",
   "metadata": {},
   "source": [
    "![tetto3](https://github.com/Onofri/ggpl/blob/master/2016-11-04/tetto3.jpg)"
   ]
  },
  {
   "cell_type": "code",
   "execution_count": null,
   "metadata": {},
   "outputs": [],
   "source": [
    "from pyplasm import *\n",
    "from fpformat import *\n",
    "\n",
    "\n",
    "verts= [[0,3,2.5],[7.5,3,2.5],[9,4.5,3.5],[7.5,6,2.5],[0,6,2.5],[0,4.5,3.5],[7.5,0.5,2.5],[9,0.5,3.5],[10.5,0.5,2.5],[10.5,8.5,2.5],[9,8.5,3.5],[7.5,8.5,2.5],[0,1.5,0],[7.5,1.5,0],[0,7.5,0],[7.5,7.5,0],[0,3,1],[7.5,3,1],[7.5,6,1],[0,6,1],[10.5,0.5,0],[10.5,8.5,0],[7.5,0.5,0],[7.5,8.5,0]]\n",
    "cells=[[1,2,3,6],[6,3,4,5],[3,2,7,8],[4,3,11,12],[8,9,10,11],[13,14,18,17],[15,16,20,19],[1,2,18,17],[5,4,19,20],[9,21,22,10],[7,23,24,12]]\n",
    "tetto= MKPOL([verts,cells,None])\n",
    "\n",
    "\n",
    "def crea_offset(hpc):\n",
    "    \n",
    "    skeleton = SKEL_1(hpc)\n",
    "    skeleton = OFFSET([0.2,0.2,0.2])(skeleton)\n",
    "    \n",
    "  \n",
    "    skeleton2 =UKPOL(SKEL_2(hpc))\n",
    "\n",
    "    \n",
    "    vertici=skeleton2[0]\n",
    "    vertici2=[]\n",
    "    celle=skeleton2[1]\n",
    "    union=[]\n",
    "    vertex=[]\n",
    "    cells=[]\n",
    "    vertex2=[]\n",
    "    \n",
    "    for v in vertici:\n",
    "        ve=[]\n",
    "        for val in v:\n",
    "            a=fix(val,3)\n",
    "            \n",
    "            ve.append(float(a))\n",
    "        vertici2.append(ve)\n",
    "    for c in celle:\n",
    "        u=[]\n",
    "        for v in c:\n",
    "            u.append(vertici2[v-1])\n",
    "        union.append(u)\n",
    "    \n",
    "    for u in union:\n",
    "        for v in u:\n",
    "            if v not in vertex:\n",
    "                vertex.append(v)\n",
    "            else:\n",
    "                v=vertex.index(v)\n",
    "    \n",
    "    for u in union:\n",
    "        a=[]\n",
    "        for v in u:\n",
    "            a.append(vertex.index(v)+1)\n",
    "        cells.append(a)\n",
    "\n",
    "    appeso=0\n",
    "    for v in vertex:\n",
    "        if v[2]>0:\n",
    "            vertex2.append(v)\n",
    "        else:\n",
    "            for v2 in vertex:\n",
    "                if v2[2]>0:\n",
    "                    if v2[0]==v[0] and v2[1]==v[1]:\n",
    "                        vertex2.append(v2)\n",
    "                        appeso=1\n",
    "            if not(appeso):\n",
    "                vertex2.append(v)\n",
    "            appeso=0\n",
    "    \n",
    "\n",
    "    cover=MKPOL([vertex2,cells,None])\n",
    "    cover=STRUCT([T(3)(0.2),cover])\n",
    "    cover=OFFSET([0.2,0.2,0.2])(cover)\n",
    "    struttura= STRUCT([cover,skeleton])            \n",
    "\n",
    "    return struttura\n",
    "\n",
    "\n",
    "VIEW(crea_offset(tetto))"
   ]
  },
  {
   "cell_type": "code",
   "execution_count": null,
   "metadata": {},
   "outputs": [],
   "source": [
    ""
   ]
  }
 ],
 "metadata": {
  "kernelspec": {
   "display_name": "Python 2",
   "language": "python",
   "name": "python2"
  },
  "language_info": {
   "codemirror_mode": {
    "name": "ipython",
    "version": 2.0
   },
   "file_extension": ".py",
   "mimetype": "text/x-python",
   "name": "python",
   "nbconvert_exporter": "python",
   "pygments_lexer": "ipython2",
   "version": "2.7.6"
  }
 },
 "nbformat": 4,
 "nbformat_minor": 0
}