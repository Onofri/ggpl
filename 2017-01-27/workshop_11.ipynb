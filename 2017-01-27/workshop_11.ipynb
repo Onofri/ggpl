{
 "cells": [
  {
   "cell_type": "markdown",
   "metadata": {},
   "source": [
    "#WHORKSHOP ULTIMO: UN QUARTIERE"
   ]
  },
  {
   "cell_type": "markdown",
   "metadata": {},
   "source": [
    "##Sulla base del whorkshop10 (la casa a più piani) viene creato un quartiere con le case e le strade"
   ]
  },
  {
   "cell_type": "code",
   "execution_count": null,
   "metadata": {
    "collapsed": true
   },
   "outputs": [],
   "source": [
    "from pyplasm import*\n",
    "from larlib import* \n",
    "from workshop_10 import*\n",
    "import csv"
   ]
  },
  {
   "cell_type": "code",
   "execution_count": null,
   "metadata": {},
   "outputs": [],
   "source": [
    "def stringToFloat(str):\n",
    "    l = str.split(',')\n",
    "    newList=[]\n",
    "    for c in l:\n",
    "        elem = float(c)/10.\n",
    "        newList.append(elem)\n",
    "    return newList"
   ]
  },
  {
   "cell_type": "markdown",
   "metadata": {},
   "source": [
    "##man mano aggiungiamo gli elementi che costruiranno la città"
   ]
  },
  {
   "cell_type": "code",
   "execution_count": null,
   "metadata": {},
   "outputs": [],
   "source": [
    "def creaParcheggio():\n",
    "    parcheggio = CUBOID([12,15,0.0001])\n",
    "    parcheggio = TEXTURE(\"texture_parcheggio.jpg\")(parcheggio)\n",
    "    return parcheggio"
   ]
  },
  {
   "cell_type": "markdown",
   "metadata": {},
   "source": [
    "###ecco una vista per il parcheggio"
   ]
  },
  {
   "cell_type": "code",
   "execution_count": null,
   "metadata": {},
   "outputs": [],
   "source": [
    "immagine"
   ]
  },
  {
   "cell_type": "markdown",
   "metadata": {},
   "source": [
    "##una piazza con delle panchine"
   ]
  },
  {
   "cell_type": "code",
   "execution_count": null,
   "metadata": {},
   "outputs": [],
   "source": [
    "def creaPanchina():\n",
    "    supporto = CUBOID([.15,.26,.25])\n",
    "    panca = CUBOID([2,.3,.08])    \n",
    "    schienale = CUBOID([2,.06,.45])\n",
    "    supporto2 = CUBOID([.15,.03,.55])\n",
    "    panchina= STRUCT([T([1,2])([.3,0.02])(supporto),T(3)(.25)(panca),T([1,2])([1.55,0.02])(supporto),T(3)(0.4)(schienale), T([1,2,3])([0.3,-0.1,.33])(supporto2),T([1,2,3])([1.55,-0.1,.33])(supporto2)])\n",
    "    panchina= TEXTURE([\"textureBase.jpg\",True,False,1,1,0,4,4])(panchina)\n",
    "    return panchina\n",
    "\n",
    "def creaPiazza():\n",
    "    pavimento = CIRCLE(6)([56,56])\n",
    "    pavimento = TEXTURE(\"texturePiazza.jpg\")(pavimento)\n",
    "    return pavimento"
   ]
  },
  {
   "cell_type": "markdown",
   "metadata": {},
   "source": [
    "###per una chiaccherata in piazza"
   ]
  },
  {
   "cell_type": "code",
   "execution_count": null,
   "metadata": {},
   "outputs": [],
   "source": [
    "immagine"
   ]
  },
  {
   "cell_type": "markdown",
   "metadata": {},
   "source": [
    "##un campo da tennis e uno da calcetto per lo svago "
   ]
  },
  {
   "cell_type": "code",
   "execution_count": null,
   "metadata": {},
   "outputs": [],
   "source": [
    "def creaCampoTennis():\n",
    "    base = CUBOID([10,13,0.5])\n",
    "    pavimento = CUBOID([10,13])\n",
    "    campo = CUBOID([9,12,0.5])\n",
    "    campo = T([1,2])([0.5,0.5])(campo)\n",
    "    base = DIFFERENCE([base,campo])\n",
    "    campo = CUBOID([9,12,0.3])\n",
    "    campo = T([1,2,3])([0.5,0.5,0.05])(campo)\n",
    "    campo = TEXTURE(\"textureTennis.jpg\")(campo)\n",
    "    rete = CUBOID([7.2,0.07,0.8])\n",
    "    rete = T([1,2,3])([1.4,6.463,0.0])(rete)\n",
    "    rete = TEXTURE(\"textureRete.jpg\")(rete)\n",
    "    recinto = CUBOID([14,17,2])\n",
    "    dif = CUBOID([13,16,2])\n",
    "    dif = T([1,2])([0.5,0.5])(dif)\n",
    "    porta = CUBOID([2,2,2])\n",
    "    porta = T(1)(6)(porta)\n",
    "    recinto = DIFFERENCE([recinto,dif])\n",
    "    recinto = DIFFERENCE([recinto,porta])\n",
    "    pavimentoRecinto = CUBOID([14,17,0.06])\n",
    "    pavimentoRecinto = TEXTURE(\"texture_mattonelle.jpg\")(pavimentoRecinto)\n",
    "    campoTennis = STRUCT([base,campo,rete,pavimento])\n",
    "    campoTennis = T([1,2])([2,2])(campoTennis)\n",
    "    struttura = STRUCT([recinto,campoTennis,pavimentoRecinto])\n",
    "    return struttura"
   ]
  },
  {
   "cell_type": "code",
   "execution_count": null,
   "metadata": {},
   "outputs": [],
   "source": [
    "immagine"
   ]
  },
  {
   "cell_type": "code",
   "execution_count": null,
   "metadata": {},
   "outputs": [],
   "source": [
    "codice campo calcio"
   ]
  },
  {
   "cell_type": "code",
   "execution_count": null,
   "metadata": {},
   "outputs": [],
   "source": [
    "immagine"
   ]
  },
  {
   "cell_type": "markdown",
   "metadata": {},
   "source": [
    "## per completare: gli alberi"
   ]
  },
  {
   "cell_type": "code",
   "execution_count": null,
   "metadata": {},
   "outputs": [],
   "source": [
    ""
   ]
  },
  {
   "cell_type": "code",
   "execution_count": null,
   "metadata": {},
   "outputs": [],
   "source": [
    ""
   ]
  },
  {
   "cell_type": "code",
   "execution_count": null,
   "metadata": {},
   "outputs": [],
   "source": [
    ""
   ]
  }
 ],
 "metadata": {
  "kernelspec": {
   "display_name": "Python 2",
   "language": "python",
   "name": "python2"
  },
  "language_info": {
   "codemirror_mode": {
    "name": "ipython",
    "version": 2.0
   },
   "file_extension": ".py",
   "mimetype": "text/x-python",
   "name": "python",
   "nbconvert_exporter": "python",
   "pygments_lexer": "ipython2",
   "version": "2.7.6"
  }
 },
 "nbformat": 4,
 "nbformat_minor": 0
}