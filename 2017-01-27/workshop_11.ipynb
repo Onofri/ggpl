{
 "cells": [
  {
   "cell_type": "markdown",
   "metadata": {},
   "source": [
    "#WHORKSHOP ULTIMO: UN QUARTIERE"
   ]
  },
  {
   "cell_type": "markdown",
   "metadata": {},
   "source": [
    "##Sulla base del whorkshop10 (la casa a più piani) viene creato un quartiere con le case e le strade"
   ]
  },
  {
   "cell_type": "code",
   "execution_count": null,
   "metadata": {
    "collapsed": true
   },
   "outputs": [],
   "source": [
    "from pyplasm import*\n",
    "from larlib import* \n",
    "from workshop_10 import*\n",
    "import csv"
   ]
  },
  {
   "cell_type": "code",
   "execution_count": null,
   "metadata": {},
   "outputs": [],
   "source": [
    "def stringToFloat(str):\n",
    "    l = str.split(',')\n",
    "    newList=[]\n",
    "    for c in l:\n",
    "        elem = float(c)/10.\n",
    "        newList.append(elem)\n",
    "    return newList"
   ]
  },
  {
   "cell_type": "markdown",
   "metadata": {},
   "source": [
    "##man mano aggiungiamo gli elementi che costruiranno la città"
   ]
  },
  {
   "cell_type": "code",
   "execution_count": null,
   "metadata": {},
   "outputs": [],
   "source": [
    "def creaParcheggio():\n",
    "    parcheggio = CUBOID([12,15,0.0001])\n",
    "    parcheggio = TEXTURE(\"texture_parcheggio.jpg\")(parcheggio)\n",
    "    return parcheggio"
   ]
  },
  {
   "cell_type": "markdown",
   "metadata": {},
   "source": [
    "##una piazza con delle panchine"
   ]
  },
  {
   "cell_type": "code",
   "execution_count": null,
   "metadata": {},
   "outputs": [],
   "source": [
    "def creaPanchina():\n",
    "    supporto = CUBOID([.15,.26,.25])\n",
    "    panca = CUBOID([2,.3,.08])    \n",
    "    schienale = CUBOID([2,.06,.45])\n",
    "    supporto2 = CUBOID([.15,.03,.55])\n",
    "    panchina= STRUCT([T([1,2])([.3,0.02])(supporto),T(3)(.25)(panca),T([1,2])([1.55,0.02])(supporto),T(3)(0.4)(schienale), T([1,2,3])([0.3,-0.1,.33])(supporto2),T([1,2,3])([1.55,-0.1,.33])(supporto2)])\n",
    "    panchina= TEXTURE([\"textureBase.jpg\",True,False,1,1,0,4,4])(panchina)\n",
    "    return panchina\n",
    "\n",
    "def creaPiazza():\n",
    "    pavimento = CIRCLE(6)([56,56])\n",
    "    pavimento = TEXTURE(\"texturePiazza.jpg\")(pavimento)\n",
    "    return pavimento"
   ]
  },
  {
   "cell_type": "markdown",
   "metadata": {},
   "source": [
    "###per una chiaccherata in piazza"
   ]
  },
  {
   "cell_type": "markdown",
   "metadata": {},
   "source": [
    "![img_vistaPiazza](https://github.com/Onofri/ggpl/blob/master/2017-01-27/img_vistaPiazza.jpg)"
   ]
  },
  {
   "cell_type": "markdown",
   "metadata": {},
   "source": [
    "##un campo da tennis e uno da calcetto per lo svago "
   ]
  },
  {
   "cell_type": "code",
   "execution_count": null,
   "metadata": {},
   "outputs": [],
   "source": [
    "def creaCampoTennis():\n",
    "    base = CUBOID([10,13,0.5])\n",
    "    pavimento = CUBOID([10,13])\n",
    "    campo = CUBOID([9,12,0.5])\n",
    "    campo = T([1,2])([0.5,0.5])(campo)\n",
    "    base = DIFFERENCE([base,campo])\n",
    "    campo = CUBOID([9,12,0.3])\n",
    "    campo = T([1,2,3])([0.5,0.5,0.05])(campo)\n",
    "    campo = TEXTURE(\"textureTennis.jpg\")(campo)\n",
    "    rete = CUBOID([7.2,0.07,0.8])\n",
    "    rete = T([1,2,3])([1.4,6.463,0.0])(rete)\n",
    "    rete = TEXTURE(\"textureRete.jpg\")(rete)\n",
    "    recinto = CUBOID([14,17,2])\n",
    "    dif = CUBOID([13,16,2])\n",
    "    dif = T([1,2])([0.5,0.5])(dif)\n",
    "    porta = CUBOID([2,2,2])\n",
    "    porta = T(1)(6)(porta)\n",
    "    recinto = DIFFERENCE([recinto,dif])\n",
    "    recinto = DIFFERENCE([recinto,porta])\n",
    "    pavimentoRecinto = CUBOID([14,17,0.06])\n",
    "    pavimentoRecinto = TEXTURE(\"texture_mattonelle.jpg\")(pavimentoRecinto)\n",
    "    campoTennis = STRUCT([base,campo,rete,pavimento])\n",
    "    campoTennis = T([1,2])([2,2])(campoTennis)\n",
    "    struttura = STRUCT([recinto,campoTennis,pavimentoRecinto])\n",
    "    return struttura"
   ]
  },
  {
   "cell_type": "markdown",
   "metadata": {},
   "source": [
    "![img_tennisUP](https://github.com/Onofri/ggpl/blob/master/2017-01-27/img_tennisUP.jpg)"
   ]
  },
  {
   "cell_type": "code",
   "execution_count": null,
   "metadata": {},
   "outputs": [],
   "source": [
    "def creaCampoCalcetto():\n",
    "    campo = CUBOID([15,19.5,0.5])\n",
    "    campo = T([1,2])([0.5,0.5])(campo)\n",
    "    campo = TEXTURE(\"textureCalcetto.jpg\")(campo)\n",
    "    recinto = CUBOID([18,22.5,3.5])\n",
    "    dif = CUBOID([17,21.5,3.5])\n",
    "    dif = T([1,2])([0.5,0.5])(dif)\n",
    "    entrata = CUBOID([2,2,2])\n",
    "    entrata = T(2)(2)(entrata)\n",
    "    recinto = DIFFERENCE([recinto,dif])\n",
    "    recinto = DIFFERENCE([recinto,entrata])\n",
    "    porta = CUBOID([4,.3,2])\n",
    "    buco = CUBOID([3.4,.3,1.7])\n",
    "    buco = T(1)([0.3])(buco)\n",
    "    porta = DIFFERENCE([porta,buco])\n",
    "    porta2 = CUBOID([4,.3,2])\n",
    "    buco2 = CUBOID([3.4,.3,1.7])\n",
    "    buco2 = T(1)([0.3])(buco2)\n",
    "    campo = T([1,2])([1,1])(campo)\n",
    "    porta2 = DIFFERENCE([porta2,buco2])\n",
    "    campoCalcetto = STRUCT([recinto,campo, T([1,2])([6.5,1.5])(porta),T([1,2])([6.5,20.5])(porta)])\n",
    "    return campoCalcetto"
   ]
  },
  {
   "cell_type": "markdown",
   "metadata": {},
   "source": [
    "![img_calcioUP](https://github.com/Onofri/ggpl/blob/master/2017-01-27/img_calcioUP.png)"
   ]
  },
  {
   "cell_type": "markdown",
   "metadata": {},
   "source": [
    "## per completare: gli alberi"
   ]
  },
  {
   "cell_type": "code",
   "execution_count": null,
   "metadata": {},
   "outputs": [],
   "source": [
    "def creaAlbero():\n",
    "    tronco = CYLINDER([0.2,2])(36)\n",
    "    fogliame = SPHERE(0.7)([36,36])\n",
    "    fogliame = STRUCT([T([1,3])([-0.2,2])(fogliame), T([1,3])([0.2,2])(fogliame), T([3])([2.2])(fogliame)])\n",
    "    tree = STRUCT([TEXTURE(\"texture_tronco.jpg\")(tronco),TEXTURE(\"texture_fogliame.jpg\")(fogliame)])\n",
    "    return tree\n",
    "\n",
    "#le relative coordinate\n",
    "def posizioneAlberi():\n",
    "        tr = lambda x,y: T([1,2])([x, y])(S([1,2,3])([1.5,1.5,2])(creaAlbero()))\n",
    "        xs = [ 2, 4, 6, 8, 10, 12, 14, 16, 18, 20, 22, 24, 26, 28, 30, 32, 34, 36, 38, 40, 42, 44, 46, 48, 50, 52, 54, 56, 58, 60, 62, 64, 66, 68, 70] \n",
    "        ys = [ 109, 105,109, 105,109,105,109, 105,109,105,109, 105,109,105,109, 105,109, 105,109,105,109, 105,109,105,109, 105,109,105,109, 105,109, 105,109, 105,109]  \n",
    "\n",
    "        xs += [ 2, 4, 6, 8, 10, 12, 14, 18,50, 54, 56, 58, 60, 62, 64, 66, 68, 70] \n",
    "        ys += [ 101, 97,101, 97,101, 97, 101, 101, 101, 101, 97, 101, 97, 101, 97, 101, 97, 101] \n",
    "        \n",
    "        xs += [ 2, 4, 6, 8, 10, 62, 64, 66, 68, 70] \n",
    "        ys += [ 93, 89, 93, 89, 93, 93,89, 93, 89, 93 ] \n",
    "\n",
    "        xs += [ 2, 4, 6, 66]\n",
    "        ys += [ 85,81,85, 85]\n",
    "\n",
    "        xs += [ 2, 4, 6] \n",
    "        ys += [ 77, 73, 77]\n",
    "\n",
    "        xs += [ 2, 4, 6]\n",
    "        ys += [ 69, 65,69]\n",
    "\n",
    "        xs += [ 2, 4, 6, 8 ] \n",
    "        ys += [ 61, 57,61, 57]\n",
    "        \n",
    "        xs += [ 2, 4, 6, 8, 10, 12, 14, 16 ] \n",
    "        ys += [ 53, 49, 53, 49, 53, 49, 53, 49]\n",
    "\n",
    "        return STRUCT(map(tr, xs, ys))"
   ]
  },
  {
   "cell_type": "markdown",
   "metadata": {},
   "source": [
    "![img_alberi.png](https://github.com/Onofri/ggpl/blob/master/2017-01-27/img_alberi.png)"
   ]
  },
  {
   "cell_type": "code",
   "execution_count": null,
   "metadata": {},
   "outputs": [],
   "source": [
    "def provaCurva(file_name):\n",
    "    curva = STRUCT([QUOTE([0])])\n",
    "    lista = []\n",
    "    with open(file_name,'r') as csvFile:\n",
    "        reader = csv.reader(csvFile, delimiter=' ', quotechar='|')\n",
    "        for row in reader:\n",
    "            l = stringToFloat(row[0])\n",
    "            c = MAP(BEZIER(S1)([[l[0],l[1]],[l[2],l[3]]]))(INTERVALS(1)(5))\n",
    "            curva = STRUCT([curva,c])\n",
    "    curva = OFFSET([2,2])(curva)\n",
    "    return curva"
   ]
  },
  {
   "cell_type": "markdown",
   "metadata": {},
   "source": [
    "###il metodo main()"
   ]
  },
  {
   "cell_type": "code",
   "execution_count": null,
   "metadata": {},
   "outputs": [],
   "source": [
    "def main():\n",
    "    prato = CUBOID([71,110,0.3])\n",
    "    curva = provaCurva(\"curve.lines\")\n",
    "    base = CUBOID([71,110,0.5])\n",
    "    base = T(3)(-0.5)(base)\n",
    "    base = TEXTURE([\"texturePrato.jpg\",True,False,1,1,0,4,4])(base)\n",
    "    \n",
    "    collegamentoParcheggio = CUBOID([12,4,0.1])\n",
    "    collegamentoParcheggio = T([1,2])([15,24])(collegamentoParcheggio)\n",
    "    collegamentoParcheggio = T(3)(0.2)(collegamentoParcheggio)\n",
    "    collegamentoParcheggio = TEXTURE(\"textureStrada.jpg\")(collegamentoParcheggio)\n",
    "    \n",
    "    prato = TEXTURE([\"texturePrato.jpg\",True,False,1,1,0,30,30])(prato)\n",
    "    curva = PROD([curva,Q(0.1)])\n",
    "    curva = T(3)(0.2)(curva)\n",
    "    curva = TEXTURE([\"textureStrada.jpg\",True,False,1,1,0,6,6])(curva)\n",
    "    curva = MATERIAL([58.8,58.8,58.8,1,  0,0,0,1,  0,0,0,1, 0,0,0,1, 1])(curva)\n",
    "    prato = MATERIAL([0,102,0,1,  0,0,0,1,  0,0,0,1, 0,0,0,1, 1])(prato)\n",
    "\n",
    "    piazza = creaPiazza()\n",
    "    piazza = T(3)(0.3)(piazza)\n",
    "    piazza = T([1,2])([31,42])(piazza)\n",
    "\n",
    "    panchina = creaPanchina()\n",
    "    panchina1 = creaPanchina()\n",
    "    panchina = R([1,2])(PI*1)(panchina)\n",
    "    panchina1 = R([1,2])(PI*1)(panchina1)\n",
    "    panchine1 = STRUCT([panchina, T(1)(2.5)(panchina1)])\n",
    "    panchine1 = T([1,2,3])([31,46.5, 0.3])(panchine1) \n",
    "\n",
    "    panchina2 = creaPanchina()\n",
    "    panchina5 =creaPanchina()\n",
    "    panchine2 = STRUCT([panchina2, T(1)(2.5)(panchina5)])\n",
    "    panchine2 = T([1,2,3])([28.75,38,0.3])(panchine2) \n",
    "\n",
    "    panchina3 = creaPanchina()\n",
    "    panchina4 = creaPanchina()\n",
    "    panchina3 = R([1,2])(PI*1/2)(panchina3)\n",
    "    panchina4 = R([1,2])(PI*1/2)(panchina4)\n",
    "    panchine3 = STRUCT([panchina3, T(2)(2.5)(panchina4)])\n",
    "    panchine3 = T([1,2,3])([35.5,39.75,0.3])(panchine3) \n",
    "\n",
    "    panchina6 = creaPanchina()\n",
    "    panchina7 = creaPanchina()\n",
    "    panchina6 = R([1,2])(PI*3/2)(panchina6)\n",
    "    panchina7 = R([1,2])(PI*3/2)(panchina7)\n",
    "    panchine4 = STRUCT([panchina6, T(2)(2.5)(panchina7)])\n",
    "    panchine4 = T([1,2,3])([26.5,41.9,0.3])(panchine4) \n",
    " \n",
    "    parcheggio = creaParcheggio()\n",
    "    parcheggio = T(3)(0.3)(parcheggio)\n",
    "    parcheggio = R([1,2])(PI/2)(parcheggio)\n",
    "    parcheggio = T([1,2])([15,19])(parcheggio)\n",
    "    \n",
    "    campoTennis = creaCampoTennis()\n",
    "    campoTennis = T(3)(0.3)(campoTennis)\n",
    "    campoTennis = R([1,2])(PI*3/2)(campoTennis)\n",
    "    campoTennis = T([1,2])([11,80])(campoTennis)\n",
    "    \n",
    "    campoCalcetto = creaCampoCalcetto()\n",
    "    campoCalcetto = T(3)(0.3)(campoCalcetto)\n",
    "    campoCalcetto = R([1,2])(PI*3/2)(campoCalcetto)\n",
    "    campoCalcetto = T([1,2])([33.3,92])(campoCalcetto)\n",
    "\n",
    "    alberi = posizioneAlberi()\n",
    "    \n",
    "    casa = casaUnPiano()\n",
    "    casa = S([1,2,3])([0.3,0.3,0.3])(casa)\n",
    "    casa = T(3)(0.3)(casa)\n",
    "    casa = R([1,2])(PI/2)(casa)\n",
    "    casa = T([1,2])([15,5.5])(casa) \n",
    "    \n",
    "    casa1 = casaDuePiani()\n",
    "    casa1 = S([1,2,3])([0.3,0.3,0.3])(casa1)\n",
    "    casa1 = T(3)(0.3)(casa1)\n",
    "    casa1 = R([1,2])(PI/2)(casa1)\n",
    "    casa1 = T([1,2])([30,5.5])(casa1)\n",
    "    \n",
    "    casa2 = casaDuePiani()\n",
    "    casa2 = S([1,2,3])([0.3,0.3,0.3])(casa2)\n",
    "    casa2 = T(3)(0.3)(casa2)\n",
    "    casa2 = T([1,2])([33,3])(casa2)\n",
    "    \n",
    "    casa7 = casaUnPiano()\n",
    "    casa7 = S([1,2,3])([0.3,0.3,0.3])(casa7)\n",
    "    casa7 = T(3)(0.3)(casa7)\n",
    "    casa7 = R([1,2])(PI/1.4)(casa7)\n",
    "    casa7 = T([1,2])([65,15])(casa7)\n",
    "    \n",
    "    casa3 = casaUnPiano()\n",
    "    casa3 = S([1,2,3])([0.3,0.3,0.3])(casa3)\n",
    "    casa3 = T(3)(0.3)(casa3)\n",
    "    casa3 = R([1,2])(PI*3/2)(casa3)\n",
    "    casa3 = T([1,2])([42,37])(casa3)\n",
    "    \n",
    "    casa4 = casaUnPiano()\n",
    "    casa4 = S([1,2,3])([0.3,0.3,0.3])(casa4)\n",
    "    casa4 = T(3)(0.3)(casa4)\n",
    "    casa4 = R([1,2])(PI*2.9/2)(casa4)\n",
    "    casa4 = T([1,2])([45,61])(casa4)\n",
    "    \n",
    "    casa5 = casaDuePiani()   \n",
    "    casa5 = S([1,2,3])([0.3,0.3,0.3])(casa5)\n",
    "    casa5 = T(3)(0.3)(casa5)\n",
    "    casa5 = R([1,2])(PI*6.7/4)(casa5) \n",
    "    casa5 = T([1,2])([26,28])(casa5) \n",
    "    \n",
    "    casa6 = casaUnPiano()\n",
    "    casa6 = S([1,2,3])([0.3,0.3,0.3])(casa6)\n",
    "    casa6 = T(3)(0.3)(casa6)\n",
    "    casa6 = R([1,2])(PI/2.3)(casa6)\n",
    "    casa6 = T([1,2])([66,59])(casa6)\n",
    "    \n",
    "    casa8 = casaDuePiani()\n",
    "    casa8 = S([1,2,3])([0.3,0.3,0.3])(casa8)\n",
    "    casa8 = T(3)(0.3)(casa8)\n",
    "    casa8 = R([1,2])(PI*3/2)(casa8)\n",
    "    casa8 = T([1,2])([30,60])(casa8)\n",
    "    \n",
    "    casa9 = casaDuePiani()\n",
    "    casa9 = S([1,2,3])([0.3,0.3,0.3])(casa9)\n",
    "    casa9 = T(3)(0.3)(casa9)\n",
    "    casa9 = R([1,2])(PI/2)(casa9)\n",
    "    casa9 = T([1,2])([46.7,62])(casa9)\n",
    "\n",
    "    casa10 = casaUnPiano()\n",
    "    casa10 = S([1,2,3])([0.3,0.3,0.3])(casa10)\n",
    "    casa10 = T(3)(0.3)(casa10)\n",
    "    casa10 = R([1,2])(PI*1)(casa10) \n",
    "    casa10 = T([1,2])([65.7,51.5])(casa10)\n",
    " \n",
    "    casa11 = casaUnPiano()\n",
    "    casa11 = S([1,2,3])([0.3,0.3,0.3])(casa11)\n",
    "    casa11 = T(3)(0.3)(casa11)\n",
    "    casa11 = R([1,2])(PI/2)(casa11)\n",
    "    casa11 = T([1,2])([15,37])(casa11)"
   ]
  },
  {
   "cell_type": "markdown",
   "metadata": {},
   "source": [
    "###viste ed esecuzione"
   ]
  },
  {
   "cell_type": "code",
   "execution_count": null,
   "metadata": {},
   "outputs": [],
   "source": [
    "quartiere = STRUCT([curva,collegamentoParcheggio,prato,base,parcheggio,panchine1,panchine2, panchine3, panchine4,  piazza, campoCalcetto, campoTennis,casa,casa1,casa2,casa3,casa4,casa5,casa6,casa7,casa8,casa9,casa10,casa11,alberi])\n",
    "\n",
    "    VIEW(quartiere)\n",
    "\n",
    "main()"
   ]
  },
  {
   "cell_type": "markdown",
   "metadata": {},
   "source": [
    "##Ora ecco alcune viste generiche del whorkshop"
   ]
  },
  {
   "cell_type": "markdown",
   "metadata": {},
   "source": [
    "###la casa con i lampioni alle porte"
   ]
  },
  {
   "cell_type": "markdown",
   "metadata": {},
   "source": [
    "![img_casa](https://github.com/Onofri/ggpl/blob/master/2017-01-27/img_casa.jpg)"
   ]
  },
  {
   "cell_type": "markdown",
   "metadata": {},
   "source": [
    "###vista dall'alto"
   ]
  },
  {
   "cell_type": "markdown",
   "metadata": {},
   "source": [
    "![img_vistaUp](https://github.com/Onofri/ggpl/blob/master/2017-01-27/img_vistaUp.jpg)"
   ]
  },
  {
   "cell_type": "markdown",
   "metadata": {},
   "source": [
    "###altre viste varie"
   ]
  },
  {
   "cell_type": "markdown",
   "metadata": {},
   "source": [
    "![img_vista1](https://github.com/Onofri/ggpl/blob/master/2017-01-27/img_vista1.jpg)"
   ]
  },
  {
   "cell_type": "markdown",
   "metadata": {},
   "source": [
    "![img_vista2](https://github.com/Onofri/ggpl/blob/master/2017-01-27/img_vista2.jpg)"
   ]
  },
  {
   "cell_type": "markdown",
   "metadata": {},
   "source": [
    "![img_vistaBack](https://github.com/Onofri/ggpl/blob/master/2017-01-27/img_vistaBack.jpg)"
   ]
  },
  {
   "cell_type": "markdown",
   "metadata": {},
   "source": [
    "![img_vistaLato](https://github.com/Onofri/ggpl/blob/master/2017-01-27/img_vistaLato.jpg)"
   ]
  }
 ],
 "metadata": {
  "kernelspec": {
   "display_name": "Python 2",
   "language": "python",
   "name": "python2"
  },
  "language_info": {
   "codemirror_mode": {
    "name": "ipython",
    "version": 2.0
   },
   "file_extension": ".py",
   "mimetype": "text/x-python",
   "name": "python",
   "nbconvert_exporter": "python",
   "pygments_lexer": "ipython2",
   "version": "2.7.6"
  }
 },
 "nbformat": 4,
 "nbformat_minor": 0
}