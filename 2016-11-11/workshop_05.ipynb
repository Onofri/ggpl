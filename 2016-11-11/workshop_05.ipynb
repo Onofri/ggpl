{
 "cells": [
  {
   "cell_type": "code",
   "execution_count": null,
   "metadata": {
    "collapsed": true
   },
   "outputs": [],
   "source": [
    "from pyplasm import *\n",
    "\n",
    "# Definizione muro laterale\n",
    "wx_lato = QUOTE([7])\n",
    "wy_lato = QUOTE([0.3])\n",
    "wz_lato = QUOTE([3])\n",
    "wall_lato = INSR(PROD)([wx_lato,wy_lato,wz_lato])\n",
    "\n",
    "# Definizione muro di fondo\n",
    "wx_fondo = QUOTE([0.3])\n",
    "wy_fondo = QUOTE([5])\n",
    "wz_fondo = QUOTE([3])\n",
    "wall_fondo = INSR(PROD)([wx_fondo,wy_fondo,wz_fondo])\n",
    "\n",
    "# Definizione delle finestre\n",
    "x_window = QUOTE([1, -1]*2)\n",
    "y_window = QUOTE([0.3])\n",
    "z_window = QUOTE([0.8])\n",
    "window = INSR(PROD)([x_window, y_window, z_window])\n",
    "\n",
    "# Struttura della classe\n",
    "wall = DIFFERENCE([STRUCT([wall_fondo, wall_lato]), (T([1,3])([2.5,1])(window))])\n",
    "\n",
    "# Definizione del pavimento\n",
    "x_pavimento = QUOTE([7])\n",
    "y_pavimento = QUOTE([5])\n",
    "z_pavimento = QUOTE([0.01])\n",
    "pavimento = INSR(PROD)([x_pavimento,y_pavimento,z_pavimento])"
   ]
  },
  {
   "cell_type": "code",
   "execution_count": null,
   "metadata": {},
   "outputs": [],
   "source": [
    "######   Workshop_05 \n",
    "\n",
    "![classroom1](https://github.com/Onofri/ggpl/blob/master/2016-11-11/scuola-arredo.jpg)"
   ]
  }
 ],
 "metadata": {
  "kernelspec": {
   "display_name": "Python 2",
   "language": "python",
   "name": "python2"
  },
  "language_info": {
   "codemirror_mode": {
    "name": "ipython",
    "version": 2.0
   },
   "file_extension": ".py",
   "mimetype": "text/x-python",
   "name": "python",
   "nbconvert_exporter": "python",
   "pygments_lexer": "ipython2",
   "version": "2.7.6"
  }
 },
 "nbformat": 4,
 "nbformat_minor": 0
}