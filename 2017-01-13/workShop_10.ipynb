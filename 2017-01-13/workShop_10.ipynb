{
 "cells": [
  {
   "cell_type": "markdown",
   "metadata": {},
   "source": [
    "#WorkShop numero 10: la casa a due piani"
   ]
  },
  {
   "cell_type": "code",
   "execution_count": null,
   "metadata": {},
   "outputs": [],
   "source": [
    "from pyplasm import*\n",
    "from createLevel1 import*\n",
    "from createLevel2 import*\n",
    "from traslation import*\n",
    "import csv"
   ]
  },
  {
   "cell_type": "code",
   "execution_count": null,
   "metadata": {},
   "outputs": [],
   "source": [
    "#farò una funzione per creare il tetto della casa\n",
    "\n",
    "def creaTetto(file_name):\n",
    "    planimetria = STRUCT([QUOTE([0])])\n",
    "    with open(file_name,'r') as csvFile:\n",
    "        reader = csv.reader(csvFile, delimiter=' ', quotechar='|')\n",
    "        for row in reader:\n",
    "            l = stringToFloat(row[0])\n",
    "            riga = MKPOL([[[l[0],l[1],0],[l[2],l[3],0]],[[1,2]],1])\n",
    "            planimetria = STRUCT([planimetria,riga]) \n",
    "    listaPunti = UKPOL(planimetria)\n",
    "    V = listaPunti[0]\n",
    "    lista = cleanList(V)\n",
    "    EV = listaPunti[1]\n",
    "    FV = []\n",
    "    for i in range(1,len(V)):\n",
    "        FV.append(i)\n",
    "    FV = [FV]\n",
    "    pavimento = EXPLODE(1,1,1)(MKPOLS((V,FV)))\n",
    "    tetto = MKPOL([[[3,42,0],[32,42,0],[32,11,0],[3,11,0],[10,35,4],[25,35,4],[25,18,4],[10,18,4]],[[1,2,6,5],[2,3,7,6],[3,4,8,7],[1,5,8,4],[5,6,7,8]],1])\n",
    "    tetto = OFFSET([0.2,0.2,0.2])(tetto)\n",
    "    tetto = T([1,2])([0.5,0.2])(tetto)\n",
    "    pavimento = OFFSET([0.2,0.2,0.1])(pavimento)\n",
    "    tetto = TEXTURE([\"textureTetto.jpg\",True,False,1,1,0,3,3])(tetto)\n",
    "    tetto = MATERIAL([84,42,12,1,  0,0,0,1,  0,0,0,1, 0,0,0,1, 1])(tetto)\n",
    "    tetto = STRUCT([pavimento,tetto])\n",
    "    tetto = T(3)(3)(tetto)\n",
    "    return tetto"
   ]
  },
  {
   "cell_type": "code",
   "execution_count": null,
   "metadata": {},
   "outputs": [],
   "source": [
    "def casaDuePiani():\n",
    "    pianoTerra = creaPlanimetria1(\"wallsExt.lines\")\n",
    "    dxScala = larghezzaScala()\n",
    "    scala = stairFunction(dxScala,7.2,3) \n",
    "    scalaTraslata = puntiScala(scala)\n",
    "    scalaTraslata = T([1,2])([-0.4,0.8])(scalaTraslata)\n",
    "    secondoPiano = creaPlanimetria2(\"wallsExt.lines\")\n",
    "    primopiano = STRUCT([pianoTerra,scalaTraslata])\n",
    "    difetto = CUBOID([1,1,3])\n",
    "    tetto = creaTetto(\"wallsExt.lines\")\n",
    "    \n",
    "    struttura = STRUCT([primopiano,secondoPiano,T(3)(3),tetto])\n",
    "   \n",
    "    VIEW(struttura)"
   ]
  },
  {
   "cell_type": "code",
   "execution_count": null,
   "metadata": {},
   "outputs": [],
   "source": [
    "casaDuePiani()"
   ]
  },
  {
   "cell_type": "markdown",
   "metadata": {
    "collapsed": true
   },
   "source": [
    "![vista_esterna](https://github.com/Onofri/ggpl/blob/master/2017-01-13/vista_esterna.jpg)\n",
    "\n",
    "#ecco una vista esterna della casa"
   ]
  },
  {
   "cell_type": "markdown",
   "metadata": {},
   "source": [
    "![vista_interna](https://github.com/Onofri/ggpl/blob/master/2017-01-13/vista_interna.jpg)\n",
    "\n",
    "![vista_interna2](https://github.com/Onofri/ggpl/blob/master/2017-01-13/vista_interna2.jpg)\n",
    "\n",
    "#ecco alcune viste interne  della casa"
   ]
  },
  {
   "cell_type": "markdown",
   "metadata": {},
   "source": [
    "![vista_interna_scala](https://github.com/Onofri/ggpl/blob/master/2017-01-13/vista_interna_scala.jpg)\n",
    "\n",
    "#la scala interna alla casa che porta al piano di sotto"
   ]
  }
 ],
 "metadata": {
  "kernelspec": {
   "display_name": "Python 2",
   "language": "python",
   "name": "python2"
  },
  "language_info": {
   "codemirror_mode": {
    "name": "ipython",
    "version": 2.0
   },
   "file_extension": ".py",
   "mimetype": "text/x-python",
   "name": "python",
   "nbconvert_exporter": "python",
   "pygments_lexer": "ipython2",
   "version": "2.7.6"
  }
 },
 "nbformat": 4,
 "nbformat_minor": 0
}